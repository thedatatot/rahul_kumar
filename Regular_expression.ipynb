{
 "cells": [
  {
   "cell_type": "code",
   "execution_count": 1,
   "metadata": {},
   "outputs": [],
   "source": [
    "import re"
   ]
  },
  {
   "cell_type": "code",
   "execution_count": 3,
   "metadata": {},
   "outputs": [
    {
     "name": "stdout",
     "output_type": "stream",
     "text": [
      "['A', 'ASCII', 'DEBUG', 'DOTALL', 'I', 'IGNORECASE', 'L', 'LOCALE', 'M', 'MULTILINE', 'Match', 'Pattern', 'RegexFlag', 'S', 'Scanner', 'T', 'TEMPLATE', 'U', 'UNICODE', 'VERBOSE', 'X', '_MAXCACHE', '__all__', '__builtins__', '__cached__', '__doc__', '__file__', '__loader__', '__name__', '__package__', '__spec__', '__version__', '_cache', '_compile', '_compile_repl', '_expand', '_locale', '_pickle', '_special_chars_map', '_subx', 'compile', 'copyreg', 'enum', 'error', 'escape', 'findall', 'finditer', 'fullmatch', 'functools', 'match', 'purge', 'search', 'split', 'sre_compile', 'sre_parse', 'sub', 'subn', 'template']\n"
     ]
    }
   ],
   "source": [
    "print(dir(re))"
   ]
  },
  {
   "cell_type": "code",
   "execution_count": 4,
   "metadata": {},
   "outputs": [
    {
     "name": "stdout",
     "output_type": "stream",
     "text": [
      "<re.Match object; span=(0, 6), match='Python'>\n",
      "<re.Match object; span=(19, 25), match='python'>\n",
      "<re.Match object; span=(0, 6), match='Python'>\n"
     ]
    }
   ],
   "source": [
    "str = 'Python Programming python'\n",
    "\n",
    "print( re.search(r'Python', str )) #gives the first match anywhere in the string\n",
    "print( re.search(r'python', str ))\n",
    "print( re.search(r'Python', str, re.IGNORECASE))\n"
   ]
  },
  {
   "cell_type": "code",
   "execution_count": 8,
   "metadata": {},
   "outputs": [
    {
     "name": "stdout",
     "output_type": "stream",
     "text": [
      "<re.Match object; span=(0, 6), match='Python'>\n",
      "<re.Match object; span=(19, 25), match='Python'>\n",
      "\n",
      "['__class__', '__copy__', '__deepcopy__', '__delattr__', '__dir__', '__doc__', '__eq__', '__format__', '__ge__', '__getattribute__', '__getitem__', '__gt__', '__hash__', '__init__', '__init_subclass__', '__le__', '__lt__', '__ne__', '__new__', '__reduce__', '__reduce_ex__', '__repr__', '__setattr__', '__sizeof__', '__str__', '__subclasshook__', 'end', 'endpos', 'expand', 'group', 'groupdict', 'groups', 'lastgroup', 'lastindex', 'pos', 're', 'regs', 'span', 'start', 'string']\n"
     ]
    }
   ],
   "source": [
    "str = 'Python programming Python'\n",
    "\n",
    "for m in re.finditer('Python', str):\n",
    "    print(m)\n",
    "    \n",
    "print()\n",
    "print(dir(m))"
   ]
  },
  {
   "cell_type": "code",
   "execution_count": 9,
   "metadata": {},
   "outputs": [
    {
     "name": "stdout",
     "output_type": "stream",
     "text": [
      "Python\n",
      "Python\n",
      "\n",
      "['__add__', '__class__', '__contains__', '__delattr__', '__dir__', '__doc__', '__eq__', '__format__', '__ge__', '__getattribute__', '__getitem__', '__getnewargs__', '__gt__', '__hash__', '__init__', '__init_subclass__', '__iter__', '__le__', '__len__', '__lt__', '__mod__', '__mul__', '__ne__', '__new__', '__reduce__', '__reduce_ex__', '__repr__', '__rmod__', '__rmul__', '__setattr__', '__sizeof__', '__str__', '__subclasshook__', 'capitalize', 'casefold', 'center', 'count', 'encode', 'endswith', 'expandtabs', 'find', 'format', 'format_map', 'index', 'isalnum', 'isalpha', 'isascii', 'isdecimal', 'isdigit', 'isidentifier', 'islower', 'isnumeric', 'isprintable', 'isspace', 'istitle', 'isupper', 'join', 'ljust', 'lower', 'lstrip', 'maketrans', 'partition', 'replace', 'rfind', 'rindex', 'rjust', 'rpartition', 'rsplit', 'rstrip', 'split', 'splitlines', 'startswith', 'strip', 'swapcase', 'title', 'translate', 'upper', 'zfill']\n"
     ]
    }
   ],
   "source": [
    "str = 'Python programming Python'\n",
    "\n",
    "for m in re.findall('Python', str):\n",
    "    print(m)\n",
    "    \n",
    "print()\n",
    "print(dir(m))"
   ]
  },
  {
   "cell_type": "code",
   "execution_count": 11,
   "metadata": {},
   "outputs": [
    {
     "name": "stdout",
     "output_type": "stream",
     "text": [
      "<re.Match object; span=(5, 6), match='4'>\n",
      "<re.Match object; span=(6, 7), match='3'>\n",
      "<re.Match object; span=(7, 8), match='5'>\n",
      "<re.Match object; span=(8, 9), match='3'>\n",
      "<re.Match object; span=(9, 10), match='6'>\n",
      "<re.Match object; span=(11, 12), match='5'>\n",
      "<re.Match object; span=(12, 13), match='6'>\n",
      "<re.Match object; span=(14, 15), match='4'>\n",
      "<re.Match object; span=(15, 16), match='5'>\n",
      "<re.Match object; span=(16, 17), match='4'>\n",
      "<re.Match object; span=(17, 18), match='5'>\n",
      "<re.Match object; span=(18, 19), match='7'>\n",
      "<re.Match object; span=(19, 20), match='6'>\n",
      "\n",
      "<re.Match object; span=(5, 7), match='43'>\n",
      "<re.Match object; span=(7, 9), match='53'>\n",
      "<re.Match object; span=(11, 13), match='56'>\n",
      "<re.Match object; span=(14, 16), match='45'>\n",
      "<re.Match object; span=(16, 18), match='45'>\n",
      "<re.Match object; span=(18, 20), match='76'>\n"
     ]
    }
   ],
   "source": [
    "\"\"\"\n",
    "\\d : matches single digit\n",
    "\\D : not a digit\n",
    "\\s : white space\n",
    "\\S : not a white space\n",
    "\\w : digit or alphabet\n",
    "\\W : not digit or alphabet\n",
    "\"\"\"\n",
    "\n",
    "\"\"\"\n",
    "Repetition\n",
    "\n",
    "* : 0 to n\n",
    "+ : 1 to n\n",
    "? : 0 or 1\n",
    "\"\"\"\n",
    "\n",
    "\n",
    "str = 'ekjw 43536 56 454576'\n",
    "\n",
    "for m in re.finditer(r'\\d', str):\n",
    "    print(m)\n",
    "\n",
    "print()\n",
    "\n",
    "for m in re.finditer(r'\\d\\d', str):\n",
    "    print(m)\n",
    "    "
   ]
  },
  {
   "cell_type": "code",
   "execution_count": 12,
   "metadata": {},
   "outputs": [
    {
     "name": "stdout",
     "output_type": "stream",
     "text": [
      "<re.Match object; span=(10, 14), match=' 56 '>\n"
     ]
    }
   ],
   "source": [
    "for m in re.finditer(r'\\D\\d\\d\\D', str):\n",
    "    print(m)"
   ]
  },
  {
   "cell_type": "code",
   "execution_count": 17,
   "metadata": {},
   "outputs": [
    {
     "name": "stdout",
     "output_type": "stream",
     "text": [
      "<re.Match object; span=(0, 1), match='a'>\n",
      "<re.Match object; span=(26, 27), match='a'>\n",
      "<re.Match object; span=(29, 30), match='a'>\n",
      "<re.Match object; span=(30, 31), match='a'>\n",
      "<re.Match object; span=(31, 32), match='a'>\n",
      "\n",
      "<re.Match object; span=(0, 1), match='a'>\n",
      "<re.Match object; span=(2, 3), match='e'>\n",
      "<re.Match object; span=(26, 27), match='a'>\n",
      "<re.Match object; span=(29, 30), match='a'>\n",
      "<re.Match object; span=(30, 31), match='a'>\n",
      "<re.Match object; span=(31, 32), match='a'>\n",
      "\n",
      "<re.Match object; span=(0, 1), match='a'>\n",
      "<re.Match object; span=(2, 3), match='e'>\n",
      "<re.Match object; span=(3, 4), match='o'>\n",
      "<re.Match object; span=(4, 5), match='i'>\n",
      "<re.Match object; span=(10, 11), match='u'>\n",
      "<re.Match object; span=(17, 18), match='i'>\n",
      "<re.Match object; span=(18, 19), match='u'>\n",
      "<re.Match object; span=(20, 21), match='o'>\n",
      "<re.Match object; span=(26, 27), match='a'>\n",
      "<re.Match object; span=(29, 30), match='a'>\n",
      "<re.Match object; span=(30, 31), match='a'>\n",
      "<re.Match object; span=(31, 32), match='a'>\n",
      "\n",
      "<re.Match object; span=(0, 1), match='a'>\n",
      "<re.Match object; span=(2, 5), match='eoi'>\n",
      "<re.Match object; span=(10, 11), match='u'>\n",
      "<re.Match object; span=(17, 19), match='iu'>\n",
      "<re.Match object; span=(20, 21), match='o'>\n",
      "<re.Match object; span=(26, 27), match='a'>\n",
      "<re.Match object; span=(29, 32), match='aaa'>\n",
      "\n"
     ]
    }
   ],
   "source": [
    "str = 'abeoirldsfurwtkhwiupodflkhasfaaa'\n",
    "\n",
    "#Find all a\n",
    "for m in re.finditer('a', str):\n",
    "    print(m)\n",
    "\n",
    "print()\n",
    "\n",
    "#find all a or e\n",
    "for m in re.finditer('a|e', str):\n",
    "    print(m)\n",
    "\n",
    "print()\n",
    "\n",
    "# find all the vowels\n",
    "for m in re.finditer('[aeiou]', str):\n",
    "    print(m)\n",
    "    \n",
    "print()\n",
    "\n",
    "# all sequence of vowels\n",
    "for m in re.finditer('[aeiou]+', str):\n",
    "    print(m)\n",
    "    \n",
    "print()"
   ]
  },
  {
   "cell_type": "code",
   "execution_count": 19,
   "metadata": {},
   "outputs": [
    {
     "name": "stdout",
     "output_type": "stream",
     "text": [
      "<re.Match object; span=(0, 1), match='A'>\n",
      "<re.Match object; span=(6, 7), match='A'>\n",
      "<re.Match object; span=(5, 6), match='A'>\n",
      "<re.Match object; span=(7, 8), match='A'>\n",
      "<re.Match object; span=(4, 5), match='A'>\n"
     ]
    }
   ],
   "source": [
    "str = ['A dffd','fdsdf Afsfds', '36536Adf','&^&*^(&A','not A']\n",
    "\n",
    "\"\"\"\n",
    "ANCHOR TAGS\n",
    "\n",
    "^ : beginning pattern\n",
    "$ : end pattern\n",
    "\n",
    "\"\"\"\n",
    "\n",
    "# Find all string starts with 'A'\n",
    "\n",
    "for line in str:\n",
    "    print(re.search('A', line))\n",
    "\n",
    "\n"
   ]
  },
  {
   "cell_type": "code",
   "execution_count": null,
   "metadata": {},
   "outputs": [],
   "source": []
  }
 ],
 "metadata": {
  "kernelspec": {
   "display_name": "Python 3",
   "language": "python",
   "name": "python3"
  },
  "language_info": {
   "codemirror_mode": {
    "name": "ipython",
    "version": 3
   },
   "file_extension": ".py",
   "mimetype": "text/x-python",
   "name": "python",
   "nbconvert_exporter": "python",
   "pygments_lexer": "ipython3",
   "version": "3.7.3"
  }
 },
 "nbformat": 4,
 "nbformat_minor": 2
}
